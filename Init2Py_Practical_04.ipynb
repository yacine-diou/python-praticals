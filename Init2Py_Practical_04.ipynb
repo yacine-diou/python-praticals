{
 "cells": [
  {
   "cell_type": "markdown",
   "metadata": {
    "id": "LPINvDFo9Nce"
   },
   "source": [
    "\n",
    "\n",
    "    \n",
    "#    <center> <b> <span style=\"color:orange;\" >  `Python for Scientific Computing and Software Engineering ` </span> </b></center>\n",
    "\n",
    "\n",
    "## <center> <b> <span style=\"color:orange;\"> An Initiation to Programming using Python (Init2Py) </span> </b></center>\n",
    "\n",
    "### <center> <b> <span style=\"color:blue;\"> Travaux Pratiques: Loops</span> </b></center>\n",
    "\n",
    "\n",
    "\n",
    "\n",
    "\n",
    "\n",
    "\n"
   ]
  },
  {
   "cell_type": "markdown",
   "metadata": {
    "id": "0vAKMUYl9Nc1"
   },
   "source": [
    "#### Exercice 0\n",
    ">On se propose de résoudre dans l'ensemble des entiers naturels l'inéquation $2n(n+1)<100$.\n",
    "En utilisant une boucle **While**, écris un programme qui renvoie les solutions entières de cette inéquation."
   ]
  },
  {
   "cell_type": "code",
   "execution_count": null,
   "metadata": {
    "id": "tnXJLyHA9Nc4"
   },
   "outputs": [],
   "source": [
    "n=1\n",
    "s=2*n*(n+1)\n",
    "while(s<100):\n",
    "    print(s)\n",
    "    n+=1\n",
    "    "
   ]
  },
  {
   "cell_type": "markdown",
   "metadata": {
    "id": "USaieP9c9Nc5"
   },
   "source": [
    "#### Exercice 1\n",
    "> En utilisant une boucle **For**, écris un programme qui calcule la somme des 30 premiers entiers naturels non nuls."
   ]
  },
  {
   "cell_type": "code",
   "execution_count": null,
   "metadata": {
    "id": "-a76WFyH9Nc7"
   },
   "outputs": [],
   "source": [
    "som =0\n",
    "for i in range(0,31):\n",
    "    som = som+1\n",
    "    print(som)\n",
    "    "
   ]
  },
  {
   "cell_type": "markdown",
   "metadata": {
    "id": "_070Czs09Nc8"
   },
   "source": [
    "#### Exercice 2\n",
    ">Refais l'exercice 1 en utilisant une boucle **While**."
   ]
  },
  {
   "cell_type": "code",
   "execution_count": null,
   "metadata": {
    "id": "m7dg2bhR9Nc9"
   },
   "outputs": [],
   "source": [
    "som = 0\n",
    "while (i<30):\n",
    "    print(som+i)\n",
    "    i+=1\n",
    "    "
   ]
  },
  {
   "cell_type": "markdown",
   "metadata": {
    "id": "Hg1vBggc9Nc_"
   },
   "source": [
    "#### Exercice 3\n",
    ">En utilisant une boucle **For**, écris un programme qui calcule le produit des 9 premiers entiers naturels non nuls."
   ]
  },
  {
   "cell_type": "code",
   "execution_count": null,
   "metadata": {
    "id": "h0TkyvqS9NdB"
   },
   "outputs": [],
   "source": [
    "p=1\n",
    "for i in range(1,10):\n",
    "    p = p*i\n",
    "    print(p)"
   ]
  },
  {
   "cell_type": "markdown",
   "metadata": {
    "id": "a2iZm5y_9NdD"
   },
   "source": [
    "#### Exercice 4\n",
    "> Refais l'exercice 3 en utilisant une boucle **While**."
   ]
  },
  {
   "cell_type": "code",
   "execution_count": null,
   "metadata": {},
   "outputs": [],
   "source": [
    "p=1\n",
    "while (i<10):\n",
    "    p = p*i\n",
    "    print(p)\n",
    "    i+=1"
   ]
  },
  {
   "cell_type": "markdown",
   "metadata": {
    "id": "rb3k7Bve9NdE"
   },
   "source": [
    "#### Exercice 5 \n",
    ">Écris un programme qui demande à l'utilisateur de saisir un nombre n et qui affiche tous les nombres pairs de $1$ à $n$ en utilisant la boucle **For**."
   ]
  },
  {
   "cell_type": "code",
   "execution_count": null,
   "metadata": {
    "id": "ibXs9RCB9NdF"
   },
   "outputs": [],
   "source": [
    "x= int(input('veuillez entrer un entier n'))\n",
    "for i in range(0, x):\n",
    "    if i % 2 ==0:\n",
    "        print(\"le nombre est paire\")\n",
    "    else:\n",
    "        print(\"le nobre est impair\")"
   ]
  },
  {
   "cell_type": "markdown",
   "metadata": {
    "id": "HPC3bfyE9NdG"
   },
   "source": [
    "#### Exercice 6\n",
    ">Refais l'exercice 5 en utilisant la boucle **While**."
   ]
  },
  {
   "cell_type": "code",
   "execution_count": null,
   "metadata": {
    "id": "dRuTyo3m9NdH"
   },
   "outputs": [],
   "source": [
    "x = int(input('veuillez entrer un entier x'))\n",
    "while(i<x):\n",
    "    if i % 2 ==0:\n",
    "        print(\"le nombre est paire\")\n",
    "    else:\n",
    "        print(\"le nobre est impair\")\n",
    "    i+=1\n",
    "    "
   ]
  },
  {
   "cell_type": "markdown",
   "metadata": {
    "id": "6fNPIIdQ9NdH"
   },
   "source": [
    "#### Exercice 7\n",
    ">Écris un programme qui demande à l'utilisateur de saisir un nombre n et qui affiche tous les nombres impairs de 1 à n en utilisant la boucle **For**."
   ]
  },
  {
   "cell_type": "code",
   "execution_count": null,
   "metadata": {
    "id": "LuVEv9Lc9NdI"
   },
   "outputs": [],
   "source": [
    "x= int(input('veuillez entrer un entier n'))\n",
    "for i in range(0, x):\n",
    "    if i % 2 != 0:\n",
    "        print(\"le nombre est impaire\")\n",
    "    else:\n",
    "        print(\"le nombre est pair\")"
   ]
  },
  {
   "cell_type": "markdown",
   "metadata": {
    "id": "HIlapsJ89NdK"
   },
   "source": [
    "#### Exercice 8\n",
    ">Refais l'exercice 7 en utilisant la boucle **While**.\n",
    "\n"
   ]
  },
  {
   "cell_type": "code",
   "execution_count": null,
   "metadata": {
    "id": "Igvjeb2E9NdM"
   },
   "outputs": [],
   "source": [
    "x = int(input('veuillez entrer un entier x'))\n",
    "while(i<x):\n",
    "    if i % 2 !=0:\n",
    "        print(\"le nombre est impaire\")\n",
    "    else:\n",
    "        print(\"le nombre est pair\")\n",
    "    i+=1"
   ]
  },
  {
   "cell_type": "markdown",
   "metadata": {
    "id": "KOYLg_e79NdU"
   },
   "source": [
    "#### Exercice 9\n",
    ">Écris un programme qui demande à l'utilisateur de saisir un nombre n et qui affiche sa table de multiplication  en utilisant la boucle **For**."
   ]
  },
  {
   "cell_type": "code",
   "execution_count": null,
   "metadata": {
    "id": "BvOU9oLw9NdU"
   },
   "outputs": [],
   "source": [
    "p = int(input('veuillez donner un nombre'))\n",
    "n = 1\n",
    "for i in range(1,11):\n",
    "     v = n*p\n",
    "        print(n, 'x', p, '=', v, sep =' ')\n",
    "    "
   ]
  },
  {
   "cell_type": "markdown",
   "metadata": {
    "id": "Ukzy78L09NdV"
   },
   "source": [
    "#### Exercice 10\n",
    ">Refais l'exercice 9 en utilisant la boucle **While**."
   ]
  },
  {
   "cell_type": "code",
   "execution_count": null,
   "metadata": {
    "id": "fRJ3oufC9NdV"
   },
   "outputs": [],
   "source": [
    "p = int(input('veuillez donner un nombre'))\n",
    "n = 1\n",
    "    while n <=10 :\n",
    "        v = n*p\n",
    "        print(n, 'x', p, '=', v, sep =' ')\n",
    "        n = n +1"
   ]
  },
  {
   "cell_type": "markdown",
   "metadata": {
    "id": "AQW435Hq9NdW"
   },
   "source": [
    "#### Exercice 11\n",
    ">Écris un programme qui demande à l'utilisateur d'entrer un nombre et de trouver tous ses diviseurs  en utilisant la boucle **For**."
   ]
  },
  {
   "cell_type": "code",
   "execution_count": null,
   "metadata": {
    "id": "Zjs_NfT89NdX"
   },
   "outputs": [],
   "source": [
    "x = int(input('veuillez entrer x'))\n",
    "for i in range(0, x):\n",
    "    k = 0\n",
    "    if (x // i)==0:\n",
    "        print(i,\"est un diviseur de\", x)\n",
    "        k = k+1\n",
    "    else:\n",
    "        print(i,\"n'est pas un diviseur de\", x)\n",
    "    "
   ]
  },
  {
   "cell_type": "markdown",
   "metadata": {
    "id": "pGp6labk9NdX"
   },
   "source": [
    "#### Exercice 12\n",
    ">Écris un programme qui demande à l'utilisateur d'entrer un entier naturel n et de trouver tous sa factorielle n!  en utilisant la boucle **For**. On rappelle que $n!=n*(n-1)*(n-2)...3*2*1$."
   ]
  },
  {
   "cell_type": "code",
   "execution_count": null,
   "metadata": {
    "id": "iDw3TKDU9NdX"
   },
   "outputs": [],
   "source": [
    "x = int(input('veuillez entrer un entier'))\n",
    "fact = 1\n",
    "for i in range(x+1):\n",
    "    fact = fact *i\n",
    "    print(fact)\n",
    "    "
   ]
  },
  {
   "cell_type": "markdown",
   "metadata": {
    "id": "eyKh1oTo9NdY"
   },
   "source": [
    "#### Exercice 13\n",
    ">Écris un programme qui demande à l'utilisateur d'entrer deux entiers naturels (plus petits que 15) et de trouver leur plus petit commun multiple utilisant la boucle **For**."
   ]
  },
  {
   "cell_type": "code",
   "execution_count": null,
   "metadata": {
    "id": "ombGnLVQ9NdY"
   },
   "outputs": [],
   "source": [
    "n1 = int(input('veuillez entrer un nombre'))\n",
    "n2 = int(input('veuillez entrer n2'))\n",
    "\n"
   ]
  },
  {
   "cell_type": "markdown",
   "metadata": {
    "id": "j4zO7-ak9NdZ"
   },
   "source": [
    "#### Exercice 14\n",
    ">Écris un programme pour afficher la série de Fibonacci jusqu'à n termes en utilisant une boucle."
   ]
  },
  {
   "cell_type": "code",
   "execution_count": null,
   "metadata": {
    "id": "5UknLOdY9NdZ"
   },
   "outputs": [],
   "source": [
    "nterms = int(input(\"Entrez un nombre: \"))\n",
    " \n",
    "n1 = 0\n",
    "n2 = 1\n",
    " \n",
    "print(\"\\n la suite fibonacci est :\")\n",
    "print(n1, \",\", n2, end=\", \")\n",
    " \n",
    "for i in range(2, nterms):\n",
    "  suivant = n1 + n2\n",
    "  print(suivant, end=\", \")\n",
    " \n",
    "  n1 = n2\n",
    "  n2 = suivant"
   ]
  },
  {
   "cell_type": "markdown",
   "metadata": {
    "id": "_RBVFZdl9Nda"
   },
   "source": [
    "#### Exercice 15\n",
    ">Écris, en utilisant une boucle **For**, un programme pour afficher 5 fois de suite le message \"Python est un très bon langage de programmation\"."
   ]
  },
  {
   "cell_type": "code",
   "execution_count": null,
   "metadata": {
    "id": "IA5dPbgd9Nda"
   },
   "outputs": [],
   "source": [
    "for i in range(6):\n",
    "    print('Python est un trés bon langage de programmation')"
   ]
  },
  {
   "cell_type": "markdown",
   "metadata": {
    "id": "VUgurSg59Nda"
   },
   "source": [
    "#### Exercice 16\n",
    ">Écris, en utilisant une boucle **While**, un programme pour afficher 7 fois de suite le message \"A cette allure je finirai par tout abandonner pour la programmation\"."
   ]
  },
  {
   "cell_type": "code",
   "execution_count": null,
   "metadata": {
    "id": "TgE99bdh9Ndb"
   },
   "outputs": [],
   "source": [
    "i=0\n",
    "while (i<8):\n",
    "    print('A cette allure je finirai par abandonner la programmation')\n",
    "    i = i+1"
   ]
  },
  {
   "cell_type": "markdown",
   "metadata": {
    "id": "DVgTXQRX9Ndb"
   },
   "source": [
    "#### Exercice 17\n",
    ">Écris, en utilisant une boucle **For**, un programme qui compte à l'envers de 10 à 0 puis qui affiche le message \"Partez\".\n"
   ]
  },
  {
   "cell_type": "code",
   "execution_count": null,
   "metadata": {
    "id": "w4L4KV6C9Ndc"
   },
   "outputs": [],
   "source": [
    "for i in range(10, 0):\n",
    "    print(i)\n",
    "    print(\"Partez\")"
   ]
  },
  {
   "cell_type": "markdown",
   "metadata": {
    "id": "raJAaAd29Ndc"
   },
   "source": [
    "#### Exercice 18\n",
    ">Écris, en utilisant une boucle **For**, un programme qui affiche chaque élément d'une chaine de caractère."
   ]
  },
  {
   "cell_type": "code",
   "execution_count": null,
   "metadata": {
    "id": "wZv1gX4c9Ndd"
   },
   "outputs": [],
   "source": [
    "for i in range((string)):\n",
    "    print(str(i))\n",
    "    "
   ]
  },
  {
   "cell_type": "markdown",
   "metadata": {
    "id": "095_Dtoc9Ndf"
   },
   "source": [
    "#### Exercice 19\n",
    ">Écris, en utilisant une boucle **For**, un programme qui compte à l'envers de 10 à 0 puis qui affiche le message \"Partez\"."
   ]
  },
  {
   "cell_type": "code",
   "execution_count": null,
   "metadata": {
    "id": "MOV4pZzn9Ndg"
   },
   "outputs": [],
   "source": [
    "for i in range(10, 0):\n",
    "    print(i)\n",
    "    print(\"Partez\")"
   ]
  },
  {
   "cell_type": "markdown",
   "metadata": {
    "id": "5sUU7dgJ9Ndh"
   },
   "source": [
    "<center> <b> <span style=\"color:orange;\"> 🎉 FÉLICITATIONS ! / CONGRATULATIONS! 🎉 </span> </b></center>"
   ]
  }
 ],
 "metadata": {
  "colab": {
   "name": "Exercices_03_Boucles.ipynb",
   "provenance": []
  },
  "kernelspec": {
   "display_name": "Python 3",
   "language": "python",
   "name": "python3"
  },
  "language_info": {
   "codemirror_mode": {
    "name": "ipython",
    "version": 3
   },
   "file_extension": ".py",
   "mimetype": "text/x-python",
   "name": "python",
   "nbconvert_exporter": "python",
   "pygments_lexer": "ipython3",
   "version": "3.6.9"
  }
 },
 "nbformat": 4,
 "nbformat_minor": 1
}
