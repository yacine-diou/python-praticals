{
 "cells": [
  {
   "cell_type": "markdown",
   "metadata": {
    "id": "12_fdbLn8p4A"
   },
   "source": [
    "\n",
    "\n",
    "    \n",
    "#    <center> <b> <span style=\"color:orange;\" >  `Python for Scientific Computing and Software Engineering ` </span> </b></center>\n",
    "\n",
    "\n",
    "## <center> <b> <span style=\"color:orange;\"> An Initiation to Programming using Python (Init2Py) </span> </b></center>\n",
    "\n",
    "### <center> <b> <span style=\"color:blue;\"> Travaux Pratiques: Objets itérables ou conteneurs</span> </b></center>\n"
   ]
  },
  {
   "cell_type": "markdown",
   "metadata": {
    "id": "E_ZB23H68p4D"
   },
   "source": [
    "###  <center> <b> <span style=\"color:blue;\"> Listes </span> </b></center>"
   ]
  },
  {
   "cell_type": "code",
   "execution_count": null,
   "metadata": {
    "id": "TAzYC_Ev8p4F"
   },
   "outputs": [],
   "source": []
  },
  {
   "cell_type": "markdown",
   "metadata": {
    "id": "H0cIcjGk8p4G"
   },
   "source": [
    "#### **Exercice 00:** \n",
    ">**Déclarer une liste vide.**"
   ]
  },
  {
   "cell_type": "code",
   "execution_count": null,
   "metadata": {
    "id": "45QEMilz8p4I"
   },
   "outputs": [],
   "source": [
    "liste = []"
   ]
  },
  {
   "cell_type": "markdown",
   "metadata": {
    "id": "zZ0XnwpB8p4J"
   },
   "source": [
    "#### **Exercice 01:** \n",
    ">**Déclarer une liste de plus de 5 éléments.**"
   ]
  },
  {
   "cell_type": "code",
   "execution_count": 4,
   "metadata": {
    "id": "HV32hLfA8p4L"
   },
   "outputs": [
    {
     "name": "stdout",
     "output_type": "stream",
     "text": [
      "[5, 10, 15, 20, 30]\n"
     ]
    }
   ],
   "source": [
    "liste = [5, 10, 15, 20, 30]\n",
    "print (liste)"
   ]
  },
  {
   "cell_type": "markdown",
   "metadata": {
    "id": "tJpy6kNz8p4M"
   },
   "source": [
    "#### **Exercice 02:** \n",
    ">**Trouver la longueur de votre liste.**"
   ]
  },
  {
   "cell_type": "code",
   "execution_count": 5,
   "metadata": {
    "id": "627A_RNw8p4O"
   },
   "outputs": [
    {
     "name": "stdout",
     "output_type": "stream",
     "text": [
      "5\n"
     ]
    }
   ],
   "source": [
    "print(len(liste))"
   ]
  },
  {
   "cell_type": "markdown",
   "metadata": {
    "id": "unFrwT5t8p4Q"
   },
   "source": [
    "#### **Exercice 03:** \n",
    ">**Obtenez le premier élément, l'élément central et le dernier élément de la liste.**\n",
    "\n"
   ]
  },
  {
   "cell_type": "code",
   "execution_count": 14,
   "metadata": {
    "id": "MUuc1gaQ8p4R"
   },
   "outputs": [
    {
     "name": "stdout",
     "output_type": "stream",
     "text": [
      "5 15 30\n"
     ]
    }
   ],
   "source": [
    "print(liste[0], liste[(len(liste))//2], liste[4])"
   ]
  },
  {
   "cell_type": "markdown",
   "metadata": {
    "id": "4Rqp8q0L8p4R"
   },
   "source": [
    "#### **Exercice 04:** \n",
    ">**Déclarez une liste appelée mixed_data_types, mettez votre (nom, âge, taille, état civil, adresse).**"
   ]
  },
  {
   "cell_type": "code",
   "execution_count": 12,
   "metadata": {
    "id": "EoZPW2UH8p4S"
   },
   "outputs": [
    {
     "name": "stdout",
     "output_type": "stream",
     "text": [
      "['DIOUF', '25', 1.6, '03/04/98', 'kaolack']\n"
     ]
    }
   ],
   "source": [
    "mixed_data_types = ['DIOUF', '25', 1.60, '03/04/98', 'kaolack']\n"
   ]
  },
  {
   "cell_type": "markdown",
   "metadata": {
    "id": "OPYSNV1l8p4T"
   },
   "source": [
    "#### **Exercice 05:** \n",
    "\n",
    "    1. Déclarez une variable liste appelée it_companies et attribuez les valeurs initiales Facebook, Google, Microsoft, Apple, IBM, Oracle et Amazon.\n",
    "\n",
    "    2. Imprimez la liste à l'aide de print()\n",
    "\n",
    "    3. Imprimez le nombre d'entreprises dans la liste\n",
    "\n",
    "    4. Imprimez la première, la moyenne et la dernière entreprise\n",
    "\n",
    "    5. Imprimez la liste après avoir modifié l'une des entreprises.\n",
    "\n",
    "    6. Ajout d'une entreprise informatique à it_companies\n",
    "\n",
    "    7. Insérer une entreprise informatique au milieu de la liste des entreprises\n",
    "\n",
    "    8. Changez le nom d'une des it_companies en majuscule (sauf IBM !)\n",
    "\n",
    "    9. Joignez les it_companies avec une chaîne '# ; '.\n",
    "\n",
    "    10. Vérifier si une certaine entreprise existe dans la liste it_companies.\n",
    "\n",
    "    11. Trier la liste en utilisant la méthode sort()\n",
    "\n",
    "    12. Inversez la liste par ordre décroissant à l'aide de la méthode reverse().\n",
    "\n",
    "    13. Supprimez les 3 premières entreprises de la liste.\n",
    "\n",
    "    14. Supprimez les 3 dernières entreprises de la liste.\n",
    "\n",
    "    15. Supprimez la ou les entreprises informatiques du milieu de la liste.\n",
    "\n",
    "    16. Supprimez la première entreprise informatique de la liste\n",
    "\n",
    "    17. Supprimez la ou les entreprises informatiques du milieu de la liste.\n",
    "\n",
    "    18. Retirer la dernière entreprise informatique de la liste\n",
    "\n",
    "    19. Supprimez toutes les entreprises informatiques de la liste\n",
    "\n",
    "    20. Détruire la liste des entreprises informatiques"
   ]
  },
  {
   "cell_type": "code",
   "execution_count": 93,
   "metadata": {
    "id": "4M_XODba8p4V"
   },
   "outputs": [
    {
     "name": "stdout",
     "output_type": "stream",
     "text": [
      "['Facebook', 'Google', 'microsoft', 'Apple', 'IBM', 'Oracle', 'Amazon']\n",
      "7\n",
      "Facebook entreprise du milieu:  Apple Amazon\n",
      "['Facebook', 'Twitter', 'microsoft', 'Apple', 'IBM', 'Oracle', 'Amazon']\n",
      "['Facebook', 'Google', 'microsoft', 'Apple', 'IBM', 'Oracle', 'Amazon', 'fujitsu']\n",
      "['Facebook', 'Google', 'microsoft', 'Apple', 'Cisco', 'IBM', 'Oracle', 'Amazon', 'fujitsu']\n",
      "Facebook# ; Google# ; microsoft# ; Apple# ; Cisco# ; IBM# ; Oracle# ; Amazon# ; fujitsu\n",
      "MICROSOFT\n"
     ]
    }
   ],
   "source": [
    "it_compagnies = ['Facebook', 'Google', 'microsoft', 'Apple', 'IBM', 'Oracle', 'Amazon']\n",
    "print(it_compagnies)\n",
    "print(len(it_compagnies))\n",
    "print(it_compagnies[0], 'entreprise du milieu: ',it_compagnies[(len(it_compagnies))//2],it_compagnies[6])\n",
    "res = [elem.replace(it_compagnies[1], \"Twitter\") for elem in it_compagnies]\n",
    "print(str(res))\n",
    "it_compagnies.append('fujitsu')\n",
    "print(it_compagnies)\n",
    "it_compagnies.insert(4, 'Cisco')\n",
    "print(it_compagnies)\n",
    "com = '# ; '.join(it_compagnies)\n",
    "print(com)\n",
    "it_compagnies = it_compagnies[2].upper()\n",
    "print(it_compagnies)\n",
    "#Vérifier si une certaine entreprise existe dans la liste it_companies.\n",
    "for i in range (len(it_compagnies)):\n",
    "    i=i+1\n",
    "    if it_compagnies[i] =='Apple':\n",
    "        print('cette compagnie est dans la liste')\n",
    "    else:\n",
    "        print('cette compagnie n\"y est pas')\n",
    "    \n",
    "    \n",
    "      \n",
    "\n",
    "\n",
    "\n",
    "\n"
   ]
  },
  {
   "cell_type": "code",
   "execution_count": 92,
   "metadata": {},
   "outputs": [
    {
     "name": "stdout",
     "output_type": "stream",
     "text": [
      "['Amazon', 'Apple', 'Facebook', 'Google', 'IBM', 'Oracle', 'microsoft']\n",
      "['microsoft', 'Oracle', 'IBM', 'Google', 'Facebook', 'Apple', 'Amazon']\n",
      "['Google', 'Facebook', 'Apple', 'Amazon']\n",
      "['Facebook', 'Google', 'microsoft', 'Apple']\n",
      "['Facebook', 'Google', 'microsoft', 'IBM', 'Oracle', 'Amazon']\n",
      "['Google', 'microsoft', 'IBM', 'Oracle', 'Amazon']\n",
      "['Facebook', 'Google', 'microsoft', 'IBM', 'Oracle', 'Amazon']\n",
      "['Facebook', 'Google', 'microsoft', 'Apple', 'IBM', 'Oracle']\n",
      "[]\n",
      "[]\n"
     ]
    }
   ],
   "source": [
    "# Trier la liste en utilisant la méthode sort()\n",
    "it_compagnies = ['Facebook', 'Google', 'microsoft', 'Apple', 'IBM', 'Oracle', 'Amazon']\n",
    "it_compagnies.sort()\n",
    "print(it_compagnies)\n",
    "\n",
    "#12. Inversez la liste par ordre décroissant à l'aide de la méthode reverse().\n",
    "it_compagnies.reverse()\n",
    "print(it_compagnies)\n",
    "\n",
    "#13. Supprimez les 3 premières entreprises de la liste.\n",
    "del it_compagnies[0:3]\n",
    "print(it_compagnies)\n",
    "\n",
    "#14. Supprimez les 3 dernières entreprises de la liste.\n",
    "\n",
    "it_compagnies = ['Facebook', 'Google', 'microsoft', 'Apple', 'IBM', 'Oracle', 'Amazon']\n",
    "del it_compagnies[4:7]\n",
    "print(it_compagnies)\n",
    "\n",
    "#15. Supprimez la ou les entreprises informatiques du milieu de la liste.\n",
    "it_compagnies = ['Facebook', 'Google', 'microsoft', 'Apple', 'IBM', 'Oracle', 'Amazon']\n",
    "it_compagnies.remove(it_compagnies[3])\n",
    "print(it_compagnies)\n",
    "\n",
    "#16. Supprimez la première entreprise informatique de la liste\n",
    "it_compagnies.remove(it_compagnies[0])\n",
    "print(it_compagnies)\n",
    "\n",
    "#17. Supprimez la ou les entreprises informatiques du milieu de la liste.\n",
    "it_compagnies = ['Facebook', 'Google', 'microsoft', 'Apple', 'IBM', 'Oracle', 'Amazon']\n",
    "it_compagnies.remove(it_compagnies[3])\n",
    "print(it_compagnies)\n",
    "\n",
    "#18. Retirer la dernière entreprise informatique de la liste\n",
    "it_compagnies = ['Facebook', 'Google', 'microsoft', 'Apple', 'IBM', 'Oracle', 'Amazon']\n",
    "it_compagnies.remove(it_compagnies[6])\n",
    "print(it_compagnies)\n",
    "\n",
    "#19. Supprimez toutes les entreprises informatiques de la liste\n",
    "it_compagnies = ['Facebook', 'Google', 'microsoft', 'Apple', 'IBM', 'Oracle', 'Amazon']\n",
    "del it_compagnies[0:7]\n",
    "print(it_compagnies)\n",
    "\n",
    "#20. Détruire la liste des entreprises informatiques\n",
    "it_compagnies.clear()\n",
    "print(it_compagnies)"
   ]
  },
  {
   "cell_type": "markdown",
   "metadata": {
    "id": "AfauolZA8p4V"
   },
   "source": [
    "#### **Exercice 06:** \n",
    "**Joindre les listes suivantes :**\n",
    "     \n",
    "         front_end = ['HTML', 'CSS', 'JS', 'React', 'Redux']  \n",
    "         back_end = ['Node','Express', 'MongoDB']"
   ]
  },
  {
   "cell_type": "code",
   "execution_count": 94,
   "metadata": {},
   "outputs": [
    {
     "name": "stdout",
     "output_type": "stream",
     "text": [
      "['HTML', 'CSS', 'JS', 'React', 'Redux', 'Node', 'Express', 'MongoDB']\n"
     ]
    }
   ],
   "source": [
    "front_end = ['HTML', 'CSS', 'JS', 'React', 'Redux']  \n",
    "back_end = ['Node','Express', 'MongoDB']\n",
    "end = front_end + back_end\n",
    "print(end)\n",
    "        "
   ]
  },
  {
   "cell_type": "code",
   "execution_count": null,
   "metadata": {
    "id": "6V8OXDSW8p4W"
   },
   "outputs": [],
   "source": []
  },
  {
   "cell_type": "markdown",
   "metadata": {
    "id": "kASFM1bh8p4X"
   },
   "source": [
    "#### **Exercice 07:** \n",
    "Voici une liste de 10 âges d'étudiants :\n",
    "\n",
    "         ages = [19, 22, 19, 24, 20, 25, 26, 24, 25, 24]\n",
    "         \n",
    " \n",
    "    1. Trier la liste et trouver l'âge minimum et maximum.\n",
    "    2. Ajoutez à nouveau l'âge minimum et l'âge maximum à la liste.\n",
    "    3. Trouvez l'âge médian (un élément du milieu ou deux éléments du milieu divisés par deux).\n",
    "    4. Trouvez l'âge moyen (somme de tous les éléments divisée par leur nombre).\n",
    "    4. Trouver l'intervalle des âges (max moins min)\n",
    "    5. Comparez les valeurs de (min - moyenne) et (max - moyenne) en utilisant la méthode abs().\n",
    "        "
   ]
  },
  {
   "cell_type": "code",
   "execution_count": 121,
   "metadata": {
    "id": "TWTGGaOO8p4Z"
   },
   "outputs": [
    {
     "name": "stdout",
     "output_type": "stream",
     "text": [
      "[19, 19, 20, 22, 24, 24, 24, 25, 25, 26]\n",
      "19\n",
      "26\n",
      "[19, 19, 20, 22, 24, 24, 24, 25, 25, 26]\n",
      "24\n",
      "22\n",
      "19 22 26\n",
      "3\n",
      "4\n"
     ]
    }
   ],
   "source": [
    "ages = [19, 22, 19, 24, 20, 25, 26, 24, 25, 24]\n",
    "ages.sort()\n",
    "print(ages)\n",
    "print(min(ages))\n",
    "print(max(ages))\n",
    "print(ages)\n",
    "median = (ages[4]+ages[5])//2\n",
    "print(median)\n",
    "ages = [19, 22, 19, 24, 20, 25, 26, 24, 25, 24]\n",
    "moyen = (ages[0]+ages[1]+ages[2]+ages[3]+ages[4]+ages[5]+ages[6]+ages[7]+ages[8]+ages[9])//10\n",
    "print(moyen)\n",
    "print(min(ages), moyen, max(ages))\n",
    "val1 = abs(min(ages) - moyen)\n",
    "val2 = abs(max(ages) -moyen)\n",
    "print(val1)\n",
    "print(val2)"
   ]
  },
  {
   "cell_type": "code",
   "execution_count": null,
   "metadata": {
    "id": "TEtbXitA8p4h"
   },
   "outputs": [],
   "source": []
  },
  {
   "cell_type": "markdown",
   "metadata": {
    "id": "bF7FI4iT8p4i"
   },
   "source": [
    "###  <center> <b> <span style=\"color:blue;\"> Dictionnaires </span> </b></center>"
   ]
  },
  {
   "cell_type": "markdown",
   "metadata": {
    "id": "VzcSJMf18p4j"
   },
   "source": [
    "\n",
    "1. Créer un dictionnaire vide appelé `dog`\n",
    "2. Ajoute le nom, la couleur, la race, les pattes, l'âge au dictionnaire dog.\n",
    "3. Créez un dictionnaire student et ajoutez le prénom, le nom, le sexe, l'âge, l'état civil, les compétences, le pays, la ville et l'adresse comme clés pour le dictionnaire.\n",
    "4. Obtenez la longueur du dictionnaire student\n",
    "5. Récupérez la valeur des compétences et vérifiez le type de données, il doit s'agir d'une liste.\n",
    "6. Modifiez les valeurs des compétences en ajoutant une ou deux compétences.\n",
    "7. Obtenez les clés du dictionnaire sous forme de liste\n",
    "8. Obtenir les valeurs du dictionnaire sous forme de liste\n",
    "9. Transformer le dictionnaire en une liste de tuples en utilisant la méthode items()\n",
    "10. Supprimer un des éléments du dictionnaire\n",
    "11. Supprimer un des dictionnaires\n"
   ]
  },
  {
   "cell_type": "code",
   "execution_count": 123,
   "metadata": {
    "id": "LJ6DfBUh8p4k"
   },
   "outputs": [
    {
     "name": "stdout",
     "output_type": "stream",
     "text": [
      "8\n"
     ]
    }
   ],
   "source": [
    "dog = {}\n",
    "dog = {\"larousse\", \"couleur\", \"race\", \"les pattes\", \"ages\"}\n",
    "student = {\"papa\", \"fall\", \"M\", \"état civil\", \"compétences\", \"Senegal\", \"dakar\",\"plateau\"}\n",
    "a = len(student)\n",
    "print(a)\n"
   ]
  },
  {
   "cell_type": "code",
   "execution_count": null,
   "metadata": {
    "id": "rNdDqviE8p4l"
   },
   "outputs": [],
   "source": []
  },
  {
   "cell_type": "markdown",
   "metadata": {
    "id": "ugc1Itzb8p4l"
   },
   "source": [
    "<center> <b> <span style=\"color:orange;\"> 🎉 FÉLICITATIONS ! / CONGRATULATIONS !🎉 </span> </b></center>"
   ]
  }
 ],
 "metadata": {
  "colab": {
   "name": "Exercices_02_Objets-itérables-ou-conteneurs.ipynb",
   "provenance": []
  },
  "kernelspec": {
   "display_name": "Python 3",
   "language": "python",
   "name": "python3"
  },
  "language_info": {
   "codemirror_mode": {
    "name": "ipython",
    "version": 3
   },
   "file_extension": ".py",
   "mimetype": "text/x-python",
   "name": "python",
   "nbconvert_exporter": "python",
   "pygments_lexer": "ipython3",
   "version": "3.6.9"
  }
 },
 "nbformat": 4,
 "nbformat_minor": 1
}
